{
 "cells": [
  {
   "cell_type": "code",
   "execution_count": 1,
   "metadata": {
    "collapsed": true
   },
   "outputs": [],
   "source": [
    "banana <- function(x){\n",
    "   100*(x[2]-x[1]^2)^2+(1-x[1])^2\n",
    " }"
   ]
  },
  {
   "cell_type": "code",
   "execution_count": 2,
   "metadata": {
    "collapsed": true
   },
   "outputs": [],
   "source": [
    "dx1= function(x){(-400*x[1]*(x[2]-x[1]^2))-2*(1-x[1])}\n",
    "dx2 = function(x){200*(x[2]-x[1]^2)}\n",
    "grad<-function(x) return(c(dx1(x),dx2(x)))"
   ]
  },
  {
   "cell_type": "code",
   "execution_count": 43,
   "metadata": {},
   "outputs": [],
   "source": [
    "fixed_step <- function (x0, f, g = NULL, info = FALSE,\n",
    "                           maxiter = 100000000, tol = 1e-7) {\n",
    "    eps <- 1e-7\n",
    "    if (! is.numeric(x0))\n",
    "        stop(\"Argument 'x0' must be a numeric vector.\")\n",
    "    n <- length(x0)\n",
    "\n",
    "    # User provided or numerical gradient\n",
    "    f <- match.fun(f)\n",
    "    g<- match.fun(grad)\n",
    "\n",
    "\n",
    "    x <- x0\n",
    "    k <- 1\n",
    "    fixstep <- 0.001\n",
    "    while (k <= maxiter) {\n",
    "        f1 <- f(x) #banana function\n",
    "        g1 <- g(x) #gradient of the banana\n",
    "        z1 <- sqrt(sum(g1^2)) #norm of the gradient of the banana\n",
    "        if (z1 == 0) {\n",
    "            warning(\n",
    "                paste(\"Zero gradient at:\", x, f1, \"-- not applicable.\\n\"))\n",
    "            return(list(xmin = x, fmin = f(x), niter = k))\n",
    "        }\n",
    "        # else use gradient vector\n",
    "        g2 <- g1 / z1\n",
    "\n",
    "        fixstep=0.001; f3 <- f(x - fixstep*g2) #one step ahead to make sure f3 is the lowest before going to the next x value\n",
    "\n",
    "        # Find a minimum and know when to stop\n",
    "        if (f3>=f1 && ((abs(f3-f1)<tol)  || (sqrt(sum(x-(x-fixstep*g2))^2))<tol)) {\n",
    "            f3 <- f1\n",
    "            return(list(xmin = x, fmin = f(x), niter = k))\n",
    "        }\n",
    "        x <- x - fixstep*g2\n",
    "        #therefore, x starts over again, and the new x will be put into the function to ensure banana stays minimum\n",
    "        k <- k + 1\n",
    "    }\n",
    "    if(k > maxiter)\n",
    "        warning(\"Maximum number of iterations reached.\\n\")\n",
    "    return(list(xmin = x, fmin = f(x), niter = k))\n",
    "}"
   ]
  },
  {
   "cell_type": "code",
   "execution_count": 44,
   "metadata": {},
   "outputs": [
    {
     "data": {
      "text/html": [
       "<dl>\n",
       "\t<dt>$xmin</dt>\n",
       "\t\t<dd><ol class=list-inline>\n",
       "\t<li>1.01122775038737</li>\n",
       "\t<li>1.02149734139729</li>\n",
       "</ol>\n",
       "</dd>\n",
       "\t<dt>$fmin</dt>\n",
       "\t\t<dd>0.000243616060426257</dd>\n",
       "\t<dt>$niter</dt>\n",
       "\t\t<dd>16628</dd>\n",
       "</dl>\n"
      ],
      "text/latex": [
       "\\begin{description}\n",
       "\\item[\\$xmin] \\begin{enumerate*}\n",
       "\\item 1.01122775038737\n",
       "\\item 1.02149734139729\n",
       "\\end{enumerate*}\n",
       "\n",
       "\\item[\\$fmin] 0.000243616060426257\n",
       "\\item[\\$niter] 16628\n",
       "\\end{description}\n"
      ],
      "text/markdown": [
       "$xmin\n",
       ":   1. 1.01122775038737\n",
       "2. 1.02149734139729\n",
       "\n",
       "\n",
       "\n",
       "$fmin\n",
       ":   0.000243616060426257\n",
       "$niter\n",
       ":   16628\n",
       "\n",
       "\n"
      ],
      "text/plain": [
       "$xmin\n",
       "[1] 1.011228 1.021497\n",
       "\n",
       "$fmin\n",
       "[1] 0.0002436161\n",
       "\n",
       "$niter\n",
       "[1] 16628\n"
      ]
     },
     "metadata": {},
     "output_type": "display_data"
    }
   ],
   "source": [
    "fixed_step(c(4,4),banana)"
   ]
  },
  {
   "cell_type": "code",
   "execution_count": 31,
   "metadata": {
    "collapsed": true
   },
   "outputs": [],
   "source": [
    "steep_descent <- function (x0, f, g = NULL, info = FALSE,\n",
    "                           maxiter = 100000000, tol = .Machine$double.eps^(1/2)) {\n",
    "    eps <- .Machine$double.eps^(1/2)\n",
    "    if (! is.numeric(x0))\n",
    "        stop(\"Argument 'x0' must be a numeric vector.\")\n",
    "    n <- length(x0)\n",
    "\n",
    "    # User provided or numerical gradient\n",
    "    f <- match.fun(f)\n",
    "    g <- match.fun(grad)\n",
    "\n",
    "\n",
    "    if (info) cat(0, \"\\t\", x0, \"\\n\")\n",
    "\n",
    "    x <- x0\n",
    "    k <- 1\n",
    "    while (k <= maxiter) {\n",
    "        f1 <- f(x)\n",
    "        g1 <- g(x)\n",
    "        z1 <- sqrt(sum(g1^2))\n",
    "        if (z1 == 0) {\n",
    "            warning(\n",
    "                paste(\"Zero gradient at:\", x, f1, \"-- not applicable.\\n\"))\n",
    "            return(list(xmin = NA, fmin = NA, niter = k))\n",
    "        }\n",
    "        # else use gradient as unit vector\n",
    "        g1 <- g1 / z1\n",
    "\n",
    "        a1 <- 0\n",
    "        a3 <- 0.01; f3 <- f(x - a3*g1)\n",
    "\n",
    "        # Find a minimum on the gradient line (or line search)\n",
    "        while (f3 >= f1) {\n",
    "            a3 <- a3/2; f3 <- f(x - a3*g1)\n",
    "            if (a3 < tol/2 && ((abs(f3-f1)<tol)  || (sqrt(sum(x-(x-fixstep*g2))^2))<tol)) {\n",
    "                x[x < eps] <- 0\n",
    "                return(list(xmin = x, fmin = f(x), niter = k))\n",
    "            }\n",
    "        }\n",
    "\n",
    "        x <- x - a3*g1\n",
    "        if (info) cat(k, \"\\t\", x, \"\\n\")\n",
    "        k <- k + 1\n",
    "    }\n",
    "    if(k > maxiter)\n",
    "        warning(\"Maximum number of iterations reached -- not converged.\\n\")\n",
    "    return(list(xmin = NA, fmin = NA, niter = k))\n",
    "}"
   ]
  },
  {
   "cell_type": "code",
   "execution_count": 32,
   "metadata": {},
   "outputs": [
    {
     "data": {
      "text/html": [
       "<dl>\n",
       "\t<dt>$xmin</dt>\n",
       "\t\t<dd><ol class=list-inline>\n",
       "\t<li>1.00000000028092</li>\n",
       "\t<li>1.00000000054575</li>\n",
       "</ol>\n",
       "</dd>\n",
       "\t<dt>$fmin</dt>\n",
       "\t\t<dd>1.04789171623787e-19</dd>\n",
       "\t<dt>$niter</dt>\n",
       "\t\t<dd>31455</dd>\n",
       "</dl>\n"
      ],
      "text/latex": [
       "\\begin{description}\n",
       "\\item[\\$xmin] \\begin{enumerate*}\n",
       "\\item 1.00000000028092\n",
       "\\item 1.00000000054575\n",
       "\\end{enumerate*}\n",
       "\n",
       "\\item[\\$fmin] 1.04789171623787e-19\n",
       "\\item[\\$niter] 31455\n",
       "\\end{description}\n"
      ],
      "text/markdown": [
       "$xmin\n",
       ":   1. 1.00000000028092\n",
       "2. 1.00000000054575\n",
       "\n",
       "\n",
       "\n",
       "$fmin\n",
       ":   1.04789171623787e-19\n",
       "$niter\n",
       ":   31455\n",
       "\n",
       "\n"
      ],
      "text/plain": [
       "$xmin\n",
       "[1] 1 1\n",
       "\n",
       "$fmin\n",
       "[1] 1.047892e-19\n",
       "\n",
       "$niter\n",
       "[1] 31455\n"
      ]
     },
     "metadata": {},
     "output_type": "display_data"
    }
   ],
   "source": [
    "steep_descent(c(4,4),banana)"
   ]
  },
  {
   "cell_type": "code",
   "execution_count": 36,
   "metadata": {
    "collapsed": true
   },
   "outputs": [],
   "source": [
    "oring=read.table(\"o_ring_data.txt\",header=T)\n",
    "loglik = function(x) {sum((1-oring$Failure)*(-x[1]-x[2]*oring$Temp)-log(1+exp(-x[1]-x[2]*oring$Temp)))}\n",
    "loglikdx1<-function(x) {sum((exp(-x[1]-x[2]*oring$Temp)/(1+exp(-x[1]-x[2]*oring$Temp)))+oring$Failure-1)}\n",
    "loglikdx2<-function(x) {sum(((oring$Temp*(exp(-x[1]-x[2]*oring$Temp)))/(1+exp(-x[1]-x[2]*oring$Temp)))\n",
    "                            -((1-oring$Failure)*oring$Temp))}\n",
    "dxloglik<-function(x) return(c(loglikdx1(x),loglikdx2(x)))"
   ]
  },
  {
   "cell_type": "code",
   "execution_count": 39,
   "metadata": {
    "collapsed": true
   },
   "outputs": [],
   "source": [
    "steep_ascent <- function (x0, f, g = NULL, info = FALSE,\n",
    "                           maxiter = 100000000, tol = 1e-7) {\n",
    "    eps <- 1e-7\n",
    "    if (! is.numeric(x0))\n",
    "        stop(\"Argument 'x0' must be a numeric vector.\")\n",
    "    n <- length(x0)\n",
    "\n",
    "    # User provided or numerical gradient\n",
    "    f <- match.fun(f)\n",
    "    g <- match.fun(dxloglik)\n",
    "\n",
    "    if (info) cat(0, \"\\t\", x0, \"\\n\")\n",
    "\n",
    "    x <- x0\n",
    "    k <- 1\n",
    "    while (k <= maxiter) {\n",
    "        f1 <- f(x)\n",
    "        g1 <- g(x)\n",
    "        z1 <- sqrt(sum(g1^2))\n",
    "        if (z1 == 0) {\n",
    "            warning(\n",
    "                paste(\"Zero gradient at:\", x, f1, \"-- not applicable.\\n\"))\n",
    "            return(list(xmin = NA, fmin = NA, niter = k))\n",
    "        }\n",
    "        # else use gradient as unit vector\n",
    "        g1 <- g1 / z1\n",
    "\n",
    "        a1 <- 0\n",
    "        a3 <- 0.01; f3 <- f(x + a3*g1)\n",
    "\n",
    "        # Find a minimum on the gradient line (or line search)\n",
    "        while (f3 <= f1) {\n",
    "            a3 <- a3/2; f3 <- f(x + a3*g1)\n",
    "            if (a3 < tol/2) {\n",
    "                if (info)\n",
    "                    cat(\"Method of steepest descent converged to:\", x, \"\\n\")\n",
    "                x[x < eps] <- 0\n",
    "                return(list(xmin = x, fmin = f(x), niter = k))\n",
    "            }\n",
    "        }\n",
    "\n",
    "        x <- x + a3*g1\n",
    "        if (info) cat(k, \"\\t\", x, \"\\n\")\n",
    "        k <- k + 1\n",
    "    }\n",
    "    if(k > maxiter)\n",
    "        warning(\"Maximum number of iterations reached -- not converged.\\n\")\n",
    "    return(list(xmin = NA, fmin = NA, niter = k))\n",
    "}"
   ]
  },
  {
   "cell_type": "code",
   "execution_count": 40,
   "metadata": {},
   "outputs": [
    {
     "data": {
      "text/html": [
       "<dl>\n",
       "\t<dt>$xmin</dt>\n",
       "\t\t<dd><ol class=list-inline>\n",
       "\t<li>15.0398447229874</li>\n",
       "\t<li>0</li>\n",
       "</ol>\n",
       "</dd>\n",
       "\t<dt>$fmin</dt>\n",
       "\t\t<dd>-240.637522328725</dd>\n",
       "\t<dt>$niter</dt>\n",
       "\t\t<dd>3245964</dd>\n",
       "</dl>\n"
      ],
      "text/latex": [
       "\\begin{description}\n",
       "\\item[\\$xmin] \\begin{enumerate*}\n",
       "\\item 15.0398447229874\n",
       "\\item 0\n",
       "\\end{enumerate*}\n",
       "\n",
       "\\item[\\$fmin] -240.637522328725\n",
       "\\item[\\$niter] 3245964\n",
       "\\end{description}\n"
      ],
      "text/markdown": [
       "$xmin\n",
       ":   1. 15.0398447229874\n",
       "2. 0\n",
       "\n",
       "\n",
       "\n",
       "$fmin\n",
       ":   -240.637522328725\n",
       "$niter\n",
       ":   3245964\n",
       "\n",
       "\n"
      ],
      "text/plain": [
       "$xmin\n",
       "[1] 15.03984  0.00000\n",
       "\n",
       "$fmin\n",
       "[1] -240.6375\n",
       "\n",
       "$niter\n",
       "[1] 3245964\n"
      ]
     },
     "metadata": {},
     "output_type": "display_data"
    }
   ],
   "source": [
    "steep_ascent(c(4,4),loglik)"
   ]
  },
  {
   "cell_type": "code",
   "execution_count": null,
   "metadata": {
    "collapsed": true
   },
   "outputs": [],
   "source": []
  }
 ],
 "metadata": {
  "kernelspec": {
   "display_name": "R",
   "language": "R",
   "name": "ir"
  },
  "language_info": {
   "codemirror_mode": "r",
   "file_extension": ".r",
   "mimetype": "text/x-r-source",
   "name": "R",
   "pygments_lexer": "r",
   "version": "3.4.3"
  }
 },
 "nbformat": 4,
 "nbformat_minor": 2
}
