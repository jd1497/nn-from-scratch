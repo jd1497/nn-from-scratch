{
 "cells": [
  {
   "cell_type": "code",
   "execution_count": 1,
   "metadata": {},
   "outputs": [
    {
     "data": {
      "text/html": [
       "<table>\n",
       "<thead><tr><th scope=col>sepal</th><th scope=col>petal</th><th scope=col>species</th></tr></thead>\n",
       "<tbody>\n",
       "\t<tr><td>5.1   </td><td>1.4   </td><td>setosa</td></tr>\n",
       "\t<tr><td>4.9   </td><td>1.4   </td><td>setosa</td></tr>\n",
       "\t<tr><td>4.7   </td><td>1.3   </td><td>setosa</td></tr>\n",
       "\t<tr><td>4.6   </td><td>1.5   </td><td>setosa</td></tr>\n",
       "\t<tr><td>5.0   </td><td>1.4   </td><td>setosa</td></tr>\n",
       "\t<tr><td>5.4   </td><td>1.7   </td><td>setosa</td></tr>\n",
       "</tbody>\n",
       "</table>\n"
      ],
      "text/latex": [
       "\\begin{tabular}{r|lll}\n",
       " sepal & petal & species\\\\\n",
       "\\hline\n",
       "\t 5.1    & 1.4    & setosa\\\\\n",
       "\t 4.9    & 1.4    & setosa\\\\\n",
       "\t 4.7    & 1.3    & setosa\\\\\n",
       "\t 4.6    & 1.5    & setosa\\\\\n",
       "\t 5.0    & 1.4    & setosa\\\\\n",
       "\t 5.4    & 1.7    & setosa\\\\\n",
       "\\end{tabular}\n"
      ],
      "text/markdown": [
       "\n",
       "sepal | petal | species | \n",
       "|---|---|---|---|---|---|\n",
       "| 5.1    | 1.4    | setosa | \n",
       "| 4.9    | 1.4    | setosa | \n",
       "| 4.7    | 1.3    | setosa | \n",
       "| 4.6    | 1.5    | setosa | \n",
       "| 5.0    | 1.4    | setosa | \n",
       "| 5.4    | 1.7    | setosa | \n",
       "\n",
       "\n"
      ],
      "text/plain": [
       "  sepal petal species\n",
       "1 5.1   1.4   setosa \n",
       "2 4.9   1.4   setosa \n",
       "3 4.7   1.3   setosa \n",
       "4 4.6   1.5   setosa \n",
       "5 5.0   1.4   setosa \n",
       "6 5.4   1.7   setosa "
      ]
     },
     "metadata": {},
     "output_type": "display_data"
    }
   ],
   "source": [
    "data(iris)\n",
    "\n",
    "# subset of iris data frame - extract only species versicolor and setosa\n",
    "# we will only focus on the sepal and petal lengths of the dataset\n",
    "irissubdf <- iris[1:100, c(1, 3, 5)]\n",
    "names(irissubdf) <- c(\"sepal\", \"petal\", \"species\")\n",
    "head(irissubdf)"
   ]
  },
  {
   "cell_type": "code",
   "execution_count": 2,
   "metadata": {},
   "outputs": [
    {
     "data": {},
     "metadata": {},
     "output_type": "display_data"
    },
    {
     "data": {
      "image/png": "[encoded data removed]",
      "text/plain": [
       "plot without title"
      ]
     },
     "metadata": {},
     "output_type": "display_data"
    }
   ],
   "source": [
    "library(ggplot2)\n",
    "ggplot(irissubdf, aes(x = sepal, y = petal)) + \n",
    "        geom_point(aes(colour=species, shape=species), size = 3) +\n",
    "        xlab(\"sepal length\") + \n",
    "        ylab(\"petal length\") + \n",
    "        ggtitle(\"Species vs sepal and petal lengths\")"
   ]
  },
  {
   "cell_type": "code",
   "execution_count": 3,
   "metadata": {},
   "outputs": [
    {
     "data": {
      "text/html": [
       "<table>\n",
       "<thead><tr><th scope=col>sepal</th><th scope=col>petal</th></tr></thead>\n",
       "<tbody>\n",
       "\t<tr><td>5.1</td><td>1.4</td></tr>\n",
       "\t<tr><td>4.9</td><td>1.4</td></tr>\n",
       "\t<tr><td>4.7</td><td>1.3</td></tr>\n",
       "\t<tr><td>4.6</td><td>1.5</td></tr>\n",
       "\t<tr><td>5.0</td><td>1.4</td></tr>\n",
       "\t<tr><td>5.4</td><td>1.7</td></tr>\n",
       "</tbody>\n",
       "</table>\n"
      ],
      "text/latex": [
       "\\begin{tabular}{r|ll}\n",
       " sepal & petal\\\\\n",
       "\\hline\n",
       "\t 5.1 & 1.4\\\\\n",
       "\t 4.9 & 1.4\\\\\n",
       "\t 4.7 & 1.3\\\\\n",
       "\t 4.6 & 1.5\\\\\n",
       "\t 5.0 & 1.4\\\\\n",
       "\t 5.4 & 1.7\\\\\n",
       "\\end{tabular}\n"
      ],
      "text/markdown": [
       "\n",
       "sepal | petal | \n",
       "|---|---|---|---|---|---|\n",
       "| 5.1 | 1.4 | \n",
       "| 4.9 | 1.4 | \n",
       "| 4.7 | 1.3 | \n",
       "| 4.6 | 1.5 | \n",
       "| 5.0 | 1.4 | \n",
       "| 5.4 | 1.7 | \n",
       "\n",
       "\n"
      ],
      "text/plain": [
       "  sepal petal\n",
       "1 5.1   1.4  \n",
       "2 4.9   1.4  \n",
       "3 4.7   1.3  \n",
       "4 4.6   1.5  \n",
       "5 5.0   1.4  \n",
       "6 5.4   1.7  "
      ]
     },
     "metadata": {},
     "output_type": "display_data"
    }
   ],
   "source": [
    "# add binary labels corresponding to species - Initialize all values to 1\n",
    "# add setosa label of -1. The binary +1, -1 labels are in the fourth  \n",
    "# column. It is better to create two separate data frames: one containing\n",
    "# the attributes while the other contains the class values.\n",
    "irissubdf[, 4] <- 1\n",
    "irissubdf[irissubdf[, 3] == \"setosa\", 4] <- -1\n",
    "\n",
    "x <- irissubdf[, c(1, 2)]\n",
    "y <- irissubdf[, 4]\n",
    "\n",
    "# head and tail of data \n",
    "head(x)"
   ]
  },
  {
   "cell_type": "code",
   "execution_count": 4,
   "metadata": {},
   "outputs": [
    {
     "data": {
      "text/html": [
       "<ol class=list-inline>\n",
       "\t<li>-1</li>\n",
       "\t<li>-1</li>\n",
       "\t<li>-1</li>\n",
       "\t<li>-1</li>\n",
       "\t<li>-1</li>\n",
       "\t<li>-1</li>\n",
       "</ol>\n"
      ],
      "text/latex": [
       "\\begin{enumerate*}\n",
       "\\item -1\n",
       "\\item -1\n",
       "\\item -1\n",
       "\\item -1\n",
       "\\item -1\n",
       "\\item -1\n",
       "\\end{enumerate*}\n"
      ],
      "text/markdown": [
       "1. -1\n",
       "2. -1\n",
       "3. -1\n",
       "4. -1\n",
       "5. -1\n",
       "6. -1\n",
       "\n",
       "\n"
      ],
      "text/plain": [
       "[1] -1 -1 -1 -1 -1 -1"
      ]
     },
     "metadata": {},
     "output_type": "display_data"
    }
   ],
   "source": [
    "head(y)"
   ]
  },
  {
   "cell_type": "code",
   "execution_count": 5,
   "metadata": {},
   "outputs": [
    {
     "name": "stdout",
     "output_type": "stream",
     "text": [
      "[1] -4.0 -6.8 18.2\n"
     ]
    }
   ],
   "source": [
    "# write function that takes in the data frame, learning rate - eta, and number of epochs - n.iter and updates the weight factor. At this stage, I am only conserned with the final weight and the number of epochs required for the weight to converge\n",
    "\n",
    "perceptron <- function(x, y, eta, niter) {\n",
    "        \n",
    "        # initialize weight vector\n",
    "        weight <- rep(0, dim(x)[2] + 1)\n",
    "        errors <- rep(0, niter)\n",
    "        \n",
    "        \n",
    "        # loop over number of epochs niter\n",
    "        for (jj in 1:niter) {\n",
    "                \n",
    "                # loop through training data set\n",
    "                for (ii in 1:length(y)) {\n",
    "                        \n",
    "                        # Predict binary label using Heaviside activation \n",
    "                        # function\n",
    "                        z <- sum(weight[2:length(weight)] * \n",
    "                                         as.numeric(x[ii, ])) + weight[1]\n",
    "                        if(z < 0) {\n",
    "                                ypred <- -1\n",
    "                        } else {\n",
    "                                ypred <- 1\n",
    "                        }\n",
    "                        \n",
    "                        # Change weight - the formula doesn't do anything \n",
    "                        # if the predicted value is correct\n",
    "                        weightdiff <- eta * (y[ii] - ypred) * \n",
    "                                c(1, as.numeric(x[ii, ]))\n",
    "                        weight <- weight + weightdiff\n",
    "                        \n",
    "                        # Update error function\n",
    "                        if ((y[ii] - ypred) != 0.0) {\n",
    "                                errors[jj] <- errors[jj] + 1\n",
    "                        }\n",
    "                        \n",
    "                }\n",
    "        }\n",
    "        \n",
    "        # weight to decide between the two species \n",
    "        print(weight)\n",
    "        return(errors)\n",
    "}\n",
    "\n",
    "err <- perceptron(x, y, 1, 10)"
   ]
  },
  {
   "cell_type": "code",
   "execution_count": 8,
   "metadata": {},
   "outputs": [
    {
     "data": {
      "text/html": [
       "<table>\n",
       "<thead><tr><th scope=col>sepal</th><th scope=col>petal</th></tr></thead>\n",
       "<tbody>\n",
       "\t<tr><td>5.1</td><td>1.4</td></tr>\n",
       "\t<tr><td>4.9</td><td>1.4</td></tr>\n",
       "\t<tr><td>4.7</td><td>1.3</td></tr>\n",
       "\t<tr><td>4.6</td><td>1.5</td></tr>\n",
       "\t<tr><td>5.0</td><td>1.4</td></tr>\n",
       "\t<tr><td>5.4</td><td>1.7</td></tr>\n",
       "\t<tr><td>4.6</td><td>1.4</td></tr>\n",
       "\t<tr><td>5.0</td><td>1.5</td></tr>\n",
       "\t<tr><td>4.4</td><td>1.4</td></tr>\n",
       "\t<tr><td>4.9</td><td>1.5</td></tr>\n",
       "\t<tr><td>5.4</td><td>1.5</td></tr>\n",
       "\t<tr><td>4.8</td><td>1.6</td></tr>\n",
       "\t<tr><td>4.8</td><td>1.4</td></tr>\n",
       "\t<tr><td>4.3</td><td>1.1</td></tr>\n",
       "\t<tr><td>5.8</td><td>1.2</td></tr>\n",
       "\t<tr><td>5.7</td><td>1.5</td></tr>\n",
       "\t<tr><td>5.4</td><td>1.3</td></tr>\n",
       "\t<tr><td>5.1</td><td>1.4</td></tr>\n",
       "\t<tr><td>5.7</td><td>1.7</td></tr>\n",
       "\t<tr><td>5.1</td><td>1.5</td></tr>\n",
       "\t<tr><td>5.4</td><td>1.7</td></tr>\n",
       "\t<tr><td>5.1</td><td>1.5</td></tr>\n",
       "\t<tr><td>4.6</td><td>1.0</td></tr>\n",
       "\t<tr><td>5.1</td><td>1.7</td></tr>\n",
       "\t<tr><td>4.8</td><td>1.9</td></tr>\n",
       "\t<tr><td>5.0</td><td>1.6</td></tr>\n",
       "\t<tr><td>5.0</td><td>1.6</td></tr>\n",
       "\t<tr><td>5.2</td><td>1.5</td></tr>\n",
       "\t<tr><td>5.2</td><td>1.4</td></tr>\n",
       "\t<tr><td>4.7</td><td>1.6</td></tr>\n",
       "\t<tr><td>...</td><td>...</td></tr>\n",
       "\t<tr><td>5.9</td><td>4.8</td></tr>\n",
       "\t<tr><td>6.1</td><td>4.0</td></tr>\n",
       "\t<tr><td>6.3</td><td>4.9</td></tr>\n",
       "\t<tr><td>6.1</td><td>4.7</td></tr>\n",
       "\t<tr><td>6.4</td><td>4.3</td></tr>\n",
       "\t<tr><td>6.6</td><td>4.4</td></tr>\n",
       "\t<tr><td>6.8</td><td>4.8</td></tr>\n",
       "\t<tr><td>6.7</td><td>5.0</td></tr>\n",
       "\t<tr><td>6.0</td><td>4.5</td></tr>\n",
       "\t<tr><td>5.7</td><td>3.5</td></tr>\n",
       "\t<tr><td>5.5</td><td>3.8</td></tr>\n",
       "\t<tr><td>5.5</td><td>3.7</td></tr>\n",
       "\t<tr><td>5.8</td><td>3.9</td></tr>\n",
       "\t<tr><td>6.0</td><td>5.1</td></tr>\n",
       "\t<tr><td>5.4</td><td>4.5</td></tr>\n",
       "\t<tr><td>6.0</td><td>4.5</td></tr>\n",
       "\t<tr><td>6.7</td><td>4.7</td></tr>\n",
       "\t<tr><td>6.3</td><td>4.4</td></tr>\n",
       "\t<tr><td>5.6</td><td>4.1</td></tr>\n",
       "\t<tr><td>5.5</td><td>4.0</td></tr>\n",
       "\t<tr><td>5.5</td><td>4.4</td></tr>\n",
       "\t<tr><td>6.1</td><td>4.6</td></tr>\n",
       "\t<tr><td>5.8</td><td>4.0</td></tr>\n",
       "\t<tr><td>5.0</td><td>3.3</td></tr>\n",
       "\t<tr><td>5.6</td><td>4.2</td></tr>\n",
       "\t<tr><td>5.7</td><td>4.2</td></tr>\n",
       "\t<tr><td>5.7</td><td>4.2</td></tr>\n",
       "\t<tr><td>6.2</td><td>4.3</td></tr>\n",
       "\t<tr><td>5.1</td><td>3.0</td></tr>\n",
       "\t<tr><td>5.7</td><td>4.1</td></tr>\n",
       "</tbody>\n",
       "</table>\n"
      ],
      "text/latex": [
       "\\begin{tabular}{r|ll}\n",
       " sepal & petal\\\\\n",
       "\\hline\n",
       "\t 5.1 & 1.4\\\\\n",
       "\t 4.9 & 1.4\\\\\n",
       "\t 4.7 & 1.3\\\\\n",
       "\t 4.6 & 1.5\\\\\n",
       "\t 5.0 & 1.4\\\\\n",
       "\t 5.4 & 1.7\\\\\n",
       "\t 4.6 & 1.4\\\\\n",
       "\t 5.0 & 1.5\\\\\n",
       "\t 4.4 & 1.4\\\\\n",
       "\t 4.9 & 1.5\\\\\n",
       "\t 5.4 & 1.5\\\\\n",
       "\t 4.8 & 1.6\\\\\n",
       "\t 4.8 & 1.4\\\\\n",
       "\t 4.3 & 1.1\\\\\n",
       "\t 5.8 & 1.2\\\\\n",
       "\t 5.7 & 1.5\\\\\n",
       "\t 5.4 & 1.3\\\\\n",
       "\t 5.1 & 1.4\\\\\n",
       "\t 5.7 & 1.7\\\\\n",
       "\t 5.1 & 1.5\\\\\n",
       "\t 5.4 & 1.7\\\\\n",
       "\t 5.1 & 1.5\\\\\n",
       "\t 4.6 & 1.0\\\\\n",
       "\t 5.1 & 1.7\\\\\n",
       "\t 4.8 & 1.9\\\\\n",
       "\t 5.0 & 1.6\\\\\n",
       "\t 5.0 & 1.6\\\\\n",
       "\t 5.2 & 1.5\\\\\n",
       "\t 5.2 & 1.4\\\\\n",
       "\t 4.7 & 1.6\\\\\n",
       "\t ... & ...\\\\\n",
       "\t 5.9 & 4.8\\\\\n",
       "\t 6.1 & 4.0\\\\\n",
       "\t 6.3 & 4.9\\\\\n",
       "\t 6.1 & 4.7\\\\\n",
       "\t 6.4 & 4.3\\\\\n",
       "\t 6.6 & 4.4\\\\\n",
       "\t 6.8 & 4.8\\\\\n",
       "\t 6.7 & 5.0\\\\\n",
       "\t 6.0 & 4.5\\\\\n",
       "\t 5.7 & 3.5\\\\\n",
       "\t 5.5 & 3.8\\\\\n",
       "\t 5.5 & 3.7\\\\\n",
       "\t 5.8 & 3.9\\\\\n",
       "\t 6.0 & 5.1\\\\\n",
       "\t 5.4 & 4.5\\\\\n",
       "\t 6.0 & 4.5\\\\\n",
       "\t 6.7 & 4.7\\\\\n",
       "\t 6.3 & 4.4\\\\\n",
       "\t 5.6 & 4.1\\\\\n",
       "\t 5.5 & 4.0\\\\\n",
       "\t 5.5 & 4.4\\\\\n",
       "\t 6.1 & 4.6\\\\\n",
       "\t 5.8 & 4.0\\\\\n",
       "\t 5.0 & 3.3\\\\\n",
       "\t 5.6 & 4.2\\\\\n",
       "\t 5.7 & 4.2\\\\\n",
       "\t 5.7 & 4.2\\\\\n",
       "\t 6.2 & 4.3\\\\\n",
       "\t 5.1 & 3.0\\\\\n",
       "\t 5.7 & 4.1\\\\\n",
       "\\end{tabular}\n"
      ],
      "text/markdown": [
       "\n",
       "sepal | petal | \n",
       "|---|---|---|---|---|---|---|---|---|---|---|---|---|---|---|---|---|---|---|---|---|---|---|---|---|---|---|---|---|---|---|---|---|---|---|---|---|---|---|---|---|---|---|---|---|---|---|---|---|---|---|---|---|---|---|---|---|---|---|---|---|\n",
       "| 5.1 | 1.4 | \n",
       "| 4.9 | 1.4 | \n",
       "| 4.7 | 1.3 | \n",
       "| 4.6 | 1.5 | \n",
       "| 5.0 | 1.4 | \n",
       "| 5.4 | 1.7 | \n",
       "| 4.6 | 1.4 | \n",
       "| 5.0 | 1.5 | \n",
       "| 4.4 | 1.4 | \n",
       "| 4.9 | 1.5 | \n",
       "| 5.4 | 1.5 | \n",
       "| 4.8 | 1.6 | \n",
       "| 4.8 | 1.4 | \n",
       "| 4.3 | 1.1 | \n",
       "| 5.8 | 1.2 | \n",
       "| 5.7 | 1.5 | \n",
       "| 5.4 | 1.3 | \n",
       "| 5.1 | 1.4 | \n",
       "| 5.7 | 1.7 | \n",
       "| 5.1 | 1.5 | \n",
       "| 5.4 | 1.7 | \n",
       "| 5.1 | 1.5 | \n",
       "| 4.6 | 1.0 | \n",
       "| 5.1 | 1.7 | \n",
       "| 4.8 | 1.9 | \n",
       "| 5.0 | 1.6 | \n",
       "| 5.0 | 1.6 | \n",
       "| 5.2 | 1.5 | \n",
       "| 5.2 | 1.4 | \n",
       "| 4.7 | 1.6 | \n",
       "| ... | ... | \n",
       "| 5.9 | 4.8 | \n",
       "| 6.1 | 4.0 | \n",
       "| 6.3 | 4.9 | \n",
       "| 6.1 | 4.7 | \n",
       "| 6.4 | 4.3 | \n",
       "| 6.6 | 4.4 | \n",
       "| 6.8 | 4.8 | \n",
       "| 6.7 | 5.0 | \n",
       "| 6.0 | 4.5 | \n",
       "| 5.7 | 3.5 | \n",
       "| 5.5 | 3.8 | \n",
       "| 5.5 | 3.7 | \n",
       "| 5.8 | 3.9 | \n",
       "| 6.0 | 5.1 | \n",
       "| 5.4 | 4.5 | \n",
       "| 6.0 | 4.5 | \n",
       "| 6.7 | 4.7 | \n",
       "| 6.3 | 4.4 | \n",
       "| 5.6 | 4.1 | \n",
       "| 5.5 | 4.0 | \n",
       "| 5.5 | 4.4 | \n",
       "| 6.1 | 4.6 | \n",
       "| 5.8 | 4.0 | \n",
       "| 5.0 | 3.3 | \n",
       "| 5.6 | 4.2 | \n",
       "| 5.7 | 4.2 | \n",
       "| 5.7 | 4.2 | \n",
       "| 6.2 | 4.3 | \n",
       "| 5.1 | 3.0 | \n",
       "| 5.7 | 4.1 | \n",
       "\n",
       "\n"
      ],
      "text/plain": [
       "    sepal petal\n",
       "1   5.1   1.4  \n",
       "2   4.9   1.4  \n",
       "3   4.7   1.3  \n",
       "4   4.6   1.5  \n",
       "5   5.0   1.4  \n",
       "6   5.4   1.7  \n",
       "7   4.6   1.4  \n",
       "8   5.0   1.5  \n",
       "9   4.4   1.4  \n",
       "10  4.9   1.5  \n",
       "11  5.4   1.5  \n",
       "12  4.8   1.6  \n",
       "13  4.8   1.4  \n",
       "14  4.3   1.1  \n",
       "15  5.8   1.2  \n",
       "16  5.7   1.5  \n",
       "17  5.4   1.3  \n",
       "18  5.1   1.4  \n",
       "19  5.7   1.7  \n",
       "20  5.1   1.5  \n",
       "21  5.4   1.7  \n",
       "22  5.1   1.5  \n",
       "23  4.6   1.0  \n",
       "24  5.1   1.7  \n",
       "25  4.8   1.9  \n",
       "26  5.0   1.6  \n",
       "27  5.0   1.6  \n",
       "28  5.2   1.5  \n",
       "29  5.2   1.4  \n",
       "30  4.7   1.6  \n",
       "... ...   ...  \n",
       "71  5.9   4.8  \n",
       "72  6.1   4.0  \n",
       "73  6.3   4.9  \n",
       "74  6.1   4.7  \n",
       "75  6.4   4.3  \n",
       "76  6.6   4.4  \n",
       "77  6.8   4.8  \n",
       "78  6.7   5.0  \n",
       "79  6.0   4.5  \n",
       "80  5.7   3.5  \n",
       "81  5.5   3.8  \n",
       "82  5.5   3.7  \n",
       "83  5.8   3.9  \n",
       "84  6.0   5.1  \n",
       "85  5.4   4.5  \n",
       "86  6.0   4.5  \n",
       "87  6.7   4.7  \n",
       "88  6.3   4.4  \n",
       "89  5.6   4.1  \n",
       "90  5.5   4.0  \n",
       "91  5.5   4.4  \n",
       "92  6.1   4.6  \n",
       "93  5.8   4.0  \n",
       "94  5.0   3.3  \n",
       "95  5.6   4.2  \n",
       "96  5.7   4.2  \n",
       "97  5.7   4.2  \n",
       "98  6.2   4.3  \n",
       "99  5.1   3.0  \n",
       "100 5.7   4.1  "
      ]
     },
     "metadata": {},
     "output_type": "display_data"
    },
    {
     "data": {
      "text/html": [
       "<ol class=list-inline>\n",
       "\t<li>2</li>\n",
       "\t<li>2</li>\n",
       "\t<li>3</li>\n",
       "\t<li>2</li>\n",
       "\t<li>1</li>\n",
       "\t<li>0</li>\n",
       "\t<li>0</li>\n",
       "\t<li>0</li>\n",
       "\t<li>0</li>\n",
       "\t<li>0</li>\n",
       "</ol>\n"
      ],
      "text/latex": [
       "\\begin{enumerate*}\n",
       "\\item 2\n",
       "\\item 2\n",
       "\\item 3\n",
       "\\item 2\n",
       "\\item 1\n",
       "\\item 0\n",
       "\\item 0\n",
       "\\item 0\n",
       "\\item 0\n",
       "\\item 0\n",
       "\\end{enumerate*}\n"
      ],
      "text/markdown": [
       "1. 2\n",
       "2. 2\n",
       "3. 3\n",
       "4. 2\n",
       "5. 1\n",
       "6. 0\n",
       "7. 0\n",
       "8. 0\n",
       "9. 0\n",
       "10. 0\n",
       "\n",
       "\n"
      ],
      "text/plain": [
       " [1] 2 2 3 2 1 0 0 0 0 0"
      ]
     },
     "metadata": {},
     "output_type": "display_data"
    }
   ],
   "source": [
    "\n",
    "err"
   ]
  },
  {
   "cell_type": "code",
   "execution_count": 6,
   "metadata": {},
   "outputs": [
    {
     "data": {
      "text/html": [
       "<ol class=list-inline>\n",
       "\t<li>0</li>\n",
       "\t<li>0</li>\n",
       "\t<li>0</li>\n",
       "</ol>\n"
      ],
      "text/latex": [
       "\\begin{enumerate*}\n",
       "\\item 0\n",
       "\\item 0\n",
       "\\item 0\n",
       "\\end{enumerate*}\n"
      ],
      "text/markdown": [
       "1. 0\n",
       "2. 0\n",
       "3. 0\n",
       "\n",
       "\n"
      ],
      "text/plain": [
       "[1] 0 0 0"
      ]
     },
     "metadata": {},
     "output_type": "display_data"
    },
    {
     "data": {
      "text/html": [
       "<ol class=list-inline>\n",
       "\t<li>100</li>\n",
       "\t<li>2</li>\n",
       "</ol>\n"
      ],
      "text/latex": [
       "\\begin{enumerate*}\n",
       "\\item 100\n",
       "\\item 2\n",
       "\\end{enumerate*}\n"
      ],
      "text/markdown": [
       "1. 100\n",
       "2. 2\n",
       "\n",
       "\n"
      ],
      "text/plain": [
       "[1] 100   2"
      ]
     },
     "metadata": {},
     "output_type": "display_data"
    },
    {
     "data": {
      "text/html": [
       "2"
      ],
      "text/latex": [
       "2"
      ],
      "text/markdown": [
       "2"
      ],
      "text/plain": [
       "[1] 2"
      ]
     },
     "metadata": {},
     "output_type": "display_data"
    },
    {
     "name": "stdout",
     "output_type": "stream",
     "text": [
      "0000000000000000000000000000000000000000000000000000000000000000000000000000000000000000000000000000"
     ]
    },
    {
     "data": {
      "text/html": [
       "0"
      ],
      "text/latex": [
       "0"
      ],
      "text/markdown": [
       "0"
      ],
      "text/plain": [
       "[1] 0"
      ]
     },
     "metadata": {},
     "output_type": "display_data"
    }
   ],
   "source": [
    "weight <- rep(0, dim(x)[2] + 1)\n",
    "weight\n",
    "dim(x)\n",
    "dim(x)[2]\n",
    "for (ii in 1:length(y)) {\n",
    "z <- sum(weight[2:length(weight)] * as.numeric(x[ii, ])) + weight[1]\n",
    "cat((z))}\n",
    "z\n",
    "                       # if(z < 0) {ypred <- -1} else {ypred <- 1}\n",
    "                        \n",
    "                        # Change weight - the formula doesn't do anything \n",
    "                        # if the predicted value is correct\n",
    "                       # weightdiff <- eta * (y[ii] - ypred) * c(1, as.numeric(x[ii, ]))\n",
    "                        #weight <- weight + weightdiff\n",
    "                        \n",
    "                        # Update error function\n",
    "                        #if ((y[ii] - ypred) != 0.0) {\n",
    "                         #       errors[jj] <- errors[jj] + 1"
   ]
  },
  {
   "cell_type": "code",
   "execution_count": null,
   "metadata": {
    "collapsed": true
   },
   "outputs": [],
   "source": []
  },
  {
   "cell_type": "code",
   "execution_count": null,
   "metadata": {
    "collapsed": true
   },
   "outputs": [],
   "source": []
  },
  {
   "cell_type": "code",
   "execution_count": 2,
   "metadata": {
    "collapsed": true
   },
   "outputs": [],
   "source": [
    " euclidean.norm = function(x) {(sum(x * x))}\n",
    "perceptron = function(x, y, learning.rate=1) {\n",
    " w = vector(length = ncol(x)) # initialize w\n",
    " b = 0 # Initialize b\n",
    " k = 0 # count updates\n",
    " R = max(apply(x, 1, euclidean.norm))\n",
    " made.mistake = TRUE # to enter the while loop\n",
    " while (made.mistake) {\n",
    " made.mistake=FALSE # hopefully\n",
    " yc <- classify.linear(x,w,b)\n",
    " for (i in 1:nrow(x)) {\n",
    " if (y[i] != yc[i]) {\n",
    " w <- w + learning.rate * y[i]*x[i,]\n",
    " b <- b + learning.rate * y[i]*R^2\n",
    " k <- k+1\n",
    " made.mistake=TRUE\n",
    " }\n",
    " } }\n",
    " s = euclidean.norm(w)\n",
    " return(list(w=w/s,b=b/s,updates=k))\n",
    " }"
   ]
  },
  {
   "cell_type": "code",
   "execution_count": null,
   "metadata": {
    "collapsed": true
   },
   "outputs": [],
   "source": [
    "y = data[,ncol(data)]\n",
    "x = data[,-ncol(data)]"
   ]
  },
  {
   "cell_type": "code",
   "execution_count": null,
   "metadata": {
    "collapsed": true
   },
   "outputs": [],
   "source": []
  },
  {
   "cell_type": "code",
   "execution_count": null,
   "metadata": {
    "collapsed": true
   },
   "outputs": [],
   "source": [
    "#library(rgl)\n",
    "# Random.Unit returns n dim-dimensional points in the unit interval labeled\n",
    "# -1 or 1. The label depends on whether or not the sum of the vector's \n",
    "# components exceeds the given threshold. That is, -1 if sum(vector) < threshold\n",
    "# and 1 otherwise.\n",
    "Random.Unit <-function(n, dim, threshold) {\n",
    "  points <- runif(n * dim)\n",
    "  points <- matrix(points, ncol = dim)\n",
    "  label <- ifelse(apply(points, 1, sum) < threshold, -1, 1)\n",
    "  return(cbind(label, x0 = rep(1, n), points))\n",
    "}\n",
    "\n",
    "# Classify is our simple classification rule for the perceptron.We simply \n",
    "# return the sign of the dot-product of our observations and weights\n",
    "Classify <- function(x, weights) {\n",
    "  return(sign(x %*% weights))\n",
    "}\n",
    "\n",
    "# Perceptron is a simple implementation of the perceptron learning algorithm.\n",
    "# It accepts data of the form data[1] = label, data[2] = x_0 = 1, data[3] = x_1,\n",
    "# etc. w0 is initilized to -threshold and the weights returned are such that\n",
    "# sign(w_0 * x_0 + w_1 * x_1 + ... + w_n * x_n) == label\n",
    "Perceptron <- function(data, threshold) {\n",
    "  w <- c(-threshold, runif(ncol(data) - 2))\n",
    "  n <- nrow(data)\n",
    "  label <- data[ , 1]\n",
    "  obs <- data[ , 2:ncol(data)]\n",
    "  misclassfied <- TRUE\n",
    "  while (misclassfied) {\n",
    "    misclassfied <- FALSE\n",
    "    for (i in 1:n) {\n",
    "      if (label[i] * Classify(obs[i , ], w) <= 0) {\n",
    "        w <- w + label[i] * obs[i , ]\n",
    "        misclassfied <- TRUE\n",
    "      }\n",
    "    }\n",
    "  }\n",
    "  return(w)\n",
    "}\n",
    "\n",
    "# Plot3D is essentially a wrapper for the rgl package's plot3d function.\n",
    "# It plots the result of a call to Random.Unit with dim = 3\n",
    "# as well as the plane parameterized by ax + by + cz + d = 0\n",
    "Plot3D <- function(points, a, b, c, d) {\n",
    "  plot3d(points[, 3:5], xlab = \"X\", ylab = \"Y\", zlab = \"Z\",\n",
    "         pch = ifelse(points[, 1] == 1, 2, 8),\n",
    "         col = ifelse(points[, 1] == 1, \"blue\", \"red\"))\n",
    "  planes3d(a, b, c, d)\n",
    "}\n",
    "\n",
    "# Plot2D plots the result of a call to Random.Unit with dim = 2 as well\n",
    "# as the line parameterized by y = bx + a, as in the call to abline.\n",
    "Plot2D <- function(points, a, b) {\n",
    "  plot(points[, 3:4], xlab = \"X\", ylab = \"Y\",\n",
    "       pch = ifelse(points[, 1] == 1, 2, 8),\n",
    "       col = ifelse(points[, 1] == 1, \"blue\", \"red\"))\n",
    "  abline(a, b)\n",
    "}\n",
    "\n",
    "THRESHOLD <- 1.5\n",
    "pts <- Random.Unit(1000, 3, THRESHOLD)\n",
    "Plot3D(pts, 1, 1, 1, -THRESHOLD)\n",
    "w <- Perceptron(pts, THRESHOLD)\n",
    "Plot3D(pts, w[4], w[3], w[2], w[1])\n",
    "\n",
    "THRESHOLD <- 0.75\n",
    "pts <- Random.Unit(1000, 2, THRESHOLD)\n",
    "Plot2D(pts, THRESHOLD, -1)\n",
    "w <- Perceptron(pts, THRESHOLD)\n",
    "Plot2D(pts, -w[1]/w[3], -w[2]/ w[3])"
   ]
  },
  {
   "cell_type": "code",
   "execution_count": null,
   "metadata": {
    "collapsed": true
   },
   "outputs": [],
   "source": []
  },
  {
   "cell_type": "code",
   "execution_count": null,
   "metadata": {
    "collapsed": true
   },
   "outputs": [],
   "source": []
  },
  {
   "cell_type": "code",
   "execution_count": null,
   "metadata": {
    "collapsed": true
   },
   "outputs": [],
   "source": []
  }
 ],
 "metadata": {
  "kernelspec": {
   "display_name": "R",
   "language": "R",
   "name": "ir"
  },
  "language_info": {
   "codemirror_mode": "r",
   "file_extension": ".r",
   "mimetype": "text/x-r-source",
   "name": "R",
   "pygments_lexer": "r",
   "version": "3.4.3"
  }
 },
 "nbformat": 4,
 "nbformat_minor": 2
}
